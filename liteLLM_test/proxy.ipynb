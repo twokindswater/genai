{
 "cells": [
  {
   "cell_type": "code",
   "execution_count": 1,
   "id": "initial_id",
   "metadata": {
    "collapsed": true,
    "ExecuteTime": {
     "end_time": "2024-03-05T03:02:02.183515530Z",
     "start_time": "2024-03-05T03:01:51.088020117Z"
    }
   },
   "outputs": [
    {
     "name": "stdout",
     "output_type": "stream",
     "text": [
      "Collecting litellm\r\n",
      "  Downloading litellm-1.28.13-py3-none-any.whl.metadata (14 kB)\r\n",
      "Requirement already satisfied: aiohttp in /home/js/anaconda3/envs/ai/lib/python3.9/site-packages (from litellm) (3.9.3)\r\n",
      "Requirement already satisfied: click in /home/js/anaconda3/envs/ai/lib/python3.9/site-packages (from litellm) (8.1.7)\r\n",
      "Requirement already satisfied: importlib-metadata>=6.8.0 in /home/js/anaconda3/envs/ai/lib/python3.9/site-packages (from litellm) (7.0.1)\r\n",
      "Requirement already satisfied: jinja2<4.0.0,>=3.1.2 in /home/js/anaconda3/envs/ai/lib/python3.9/site-packages (from litellm) (3.1.3)\r\n",
      "Collecting openai>=1.0.0 (from litellm)\r\n",
      "  Downloading openai-1.13.3-py3-none-any.whl.metadata (18 kB)\r\n",
      "Collecting python-dotenv>=0.2.0 (from litellm)\r\n",
      "  Downloading python_dotenv-1.0.1-py3-none-any.whl.metadata (23 kB)\r\n",
      "Requirement already satisfied: requests<3.0.0,>=2.31.0 in /home/js/anaconda3/envs/ai/lib/python3.9/site-packages (from litellm) (2.31.0)\r\n",
      "Collecting tiktoken>=0.4.0 (from litellm)\r\n",
      "  Downloading tiktoken-0.6.0-cp39-cp39-manylinux_2_17_x86_64.manylinux2014_x86_64.whl.metadata (6.6 kB)\r\n",
      "Requirement already satisfied: tokenizers in /home/js/anaconda3/envs/ai/lib/python3.9/site-packages (from litellm) (0.13.3)\r\n",
      "Requirement already satisfied: zipp>=0.5 in /home/js/anaconda3/envs/ai/lib/python3.9/site-packages (from importlib-metadata>=6.8.0->litellm) (3.17.0)\r\n",
      "Requirement already satisfied: MarkupSafe>=2.0 in /home/js/anaconda3/envs/ai/lib/python3.9/site-packages (from jinja2<4.0.0,>=3.1.2->litellm) (2.1.3)\r\n",
      "Requirement already satisfied: anyio<5,>=3.5.0 in /home/js/anaconda3/envs/ai/lib/python3.9/site-packages (from openai>=1.0.0->litellm) (3.7.1)\r\n",
      "Collecting distro<2,>=1.7.0 (from openai>=1.0.0->litellm)\r\n",
      "  Downloading distro-1.9.0-py3-none-any.whl.metadata (6.8 kB)\r\n",
      "Collecting httpx<1,>=0.23.0 (from openai>=1.0.0->litellm)\r\n",
      "  Downloading httpx-0.27.0-py3-none-any.whl.metadata (7.2 kB)\r\n",
      "Requirement already satisfied: pydantic<3,>=1.9.0 in /home/js/anaconda3/envs/ai/lib/python3.9/site-packages (from openai>=1.0.0->litellm) (2.6.2)\r\n",
      "Requirement already satisfied: sniffio in /home/js/anaconda3/envs/ai/lib/python3.9/site-packages (from openai>=1.0.0->litellm) (1.3.0)\r\n",
      "Requirement already satisfied: tqdm>4 in /home/js/anaconda3/envs/ai/lib/python3.9/site-packages (from openai>=1.0.0->litellm) (4.66.2)\r\n",
      "Requirement already satisfied: typing-extensions<5,>=4.7 in /home/js/anaconda3/envs/ai/lib/python3.9/site-packages (from openai>=1.0.0->litellm) (4.10.0)\r\n",
      "Requirement already satisfied: charset-normalizer<4,>=2 in /home/js/anaconda3/envs/ai/lib/python3.9/site-packages (from requests<3.0.0,>=2.31.0->litellm) (2.0.12)\r\n",
      "Requirement already satisfied: idna<4,>=2.5 in /home/js/anaconda3/envs/ai/lib/python3.9/site-packages (from requests<3.0.0,>=2.31.0->litellm) (3.4)\r\n",
      "Requirement already satisfied: urllib3<3,>=1.21.1 in /home/js/anaconda3/envs/ai/lib/python3.9/site-packages (from requests<3.0.0,>=2.31.0->litellm) (1.26.18)\r\n",
      "Requirement already satisfied: certifi>=2017.4.17 in /home/js/anaconda3/envs/ai/lib/python3.9/site-packages (from requests<3.0.0,>=2.31.0->litellm) (2023.7.22)\r\n",
      "Requirement already satisfied: regex>=2022.1.18 in /home/js/anaconda3/envs/ai/lib/python3.9/site-packages (from tiktoken>=0.4.0->litellm) (2023.12.25)\r\n",
      "Requirement already satisfied: aiosignal>=1.1.2 in /home/js/anaconda3/envs/ai/lib/python3.9/site-packages (from aiohttp->litellm) (1.3.1)\r\n",
      "Requirement already satisfied: attrs>=17.3.0 in /home/js/anaconda3/envs/ai/lib/python3.9/site-packages (from aiohttp->litellm) (23.1.0)\r\n",
      "Requirement already satisfied: frozenlist>=1.1.1 in /home/js/anaconda3/envs/ai/lib/python3.9/site-packages (from aiohttp->litellm) (1.4.1)\r\n",
      "Requirement already satisfied: multidict<7.0,>=4.5 in /home/js/anaconda3/envs/ai/lib/python3.9/site-packages (from aiohttp->litellm) (6.0.5)\r\n",
      "Requirement already satisfied: yarl<2.0,>=1.0 in /home/js/anaconda3/envs/ai/lib/python3.9/site-packages (from aiohttp->litellm) (1.9.4)\r\n",
      "Requirement already satisfied: async-timeout<5.0,>=4.0 in /home/js/anaconda3/envs/ai/lib/python3.9/site-packages (from aiohttp->litellm) (4.0.3)\r\n",
      "Requirement already satisfied: exceptiongroup in /home/js/anaconda3/envs/ai/lib/python3.9/site-packages (from anyio<5,>=3.5.0->openai>=1.0.0->litellm) (1.2.0)\r\n",
      "Collecting httpcore==1.* (from httpx<1,>=0.23.0->openai>=1.0.0->litellm)\r\n",
      "  Downloading httpcore-1.0.4-py3-none-any.whl.metadata (20 kB)\r\n",
      "Collecting h11<0.15,>=0.13 (from httpcore==1.*->httpx<1,>=0.23.0->openai>=1.0.0->litellm)\r\n",
      "  Downloading h11-0.14.0-py3-none-any.whl.metadata (8.2 kB)\r\n",
      "Requirement already satisfied: annotated-types>=0.4.0 in /home/js/anaconda3/envs/ai/lib/python3.9/site-packages (from pydantic<3,>=1.9.0->openai>=1.0.0->litellm) (0.6.0)\r\n",
      "Requirement already satisfied: pydantic-core==2.16.3 in /home/js/anaconda3/envs/ai/lib/python3.9/site-packages (from pydantic<3,>=1.9.0->openai>=1.0.0->litellm) (2.16.3)\r\n",
      "Downloading litellm-1.28.13-py3-none-any.whl (3.6 MB)\r\n",
      "\u001B[2K   \u001B[90m━━━━━━━━━━━━━━━━━━━━━━━━━━━━━━━━━━━━━━━━\u001B[0m \u001B[32m3.6/3.6 MB\u001B[0m \u001B[31m15.0 MB/s\u001B[0m eta \u001B[36m0:00:00\u001B[0m00:01\u001B[0m00:01\u001B[0m\r\n",
      "\u001B[?25hDownloading openai-1.13.3-py3-none-any.whl (227 kB)\r\n",
      "\u001B[2K   \u001B[90m━━━━━━━━━━━━━━━━━━━━━━━━━━━━━━━━━━━━━━━━\u001B[0m \u001B[32m227.4/227.4 kB\u001B[0m \u001B[31m2.5 MB/s\u001B[0m eta \u001B[36m0:00:00\u001B[0m:00:01\u001B[0m\r\n",
      "\u001B[?25hDownloading python_dotenv-1.0.1-py3-none-any.whl (19 kB)\r\n",
      "Downloading tiktoken-0.6.0-cp39-cp39-manylinux_2_17_x86_64.manylinux2014_x86_64.whl (1.8 MB)\r\n",
      "\u001B[2K   \u001B[90m━━━━━━━━━━━━━━━━━━━━━━━━━━━━━━━━━━━━━━━━\u001B[0m \u001B[32m1.8/1.8 MB\u001B[0m \u001B[31m12.6 MB/s\u001B[0m eta \u001B[36m0:00:00\u001B[0m:00:01\u001B[0m\r\n",
      "\u001B[?25hDownloading distro-1.9.0-py3-none-any.whl (20 kB)\r\n",
      "Downloading httpx-0.27.0-py3-none-any.whl (75 kB)\r\n",
      "\u001B[2K   \u001B[90m━━━━━━━━━━━━━━━━━━━━━━━━━━━━━━━━━━━━━━━━\u001B[0m \u001B[32m75.6/75.6 kB\u001B[0m \u001B[31m648.0 kB/s\u001B[0m eta \u001B[36m0:00:00\u001B[0ma \u001B[36m0:00:01\u001B[0m\r\n",
      "\u001B[?25hDownloading httpcore-1.0.4-py3-none-any.whl (77 kB)\r\n",
      "\u001B[2K   \u001B[90m━━━━━━━━━━━━━━━━━━━━━━━━━━━━━━━━━━━━━━━━\u001B[0m \u001B[32m77.8/77.8 kB\u001B[0m \u001B[31m474.3 kB/s\u001B[0m eta \u001B[36m0:00:00\u001B[0ma \u001B[36m0:00:01\u001B[0m\r\n",
      "\u001B[?25hDownloading h11-0.14.0-py3-none-any.whl (58 kB)\r\n",
      "\u001B[2K   \u001B[90m━━━━━━━━━━━━━━━━━━━━━━━━━━━━━━━━━━━━━━━━\u001B[0m \u001B[32m58.3/58.3 kB\u001B[0m \u001B[31m159.7 kB/s\u001B[0m eta \u001B[36m0:00:00\u001B[0ma \u001B[36m0:00:01\u001B[0m\r\n",
      "\u001B[?25hInstalling collected packages: python-dotenv, h11, distro, tiktoken, httpcore, httpx, openai, litellm\r\n",
      "Successfully installed distro-1.9.0 h11-0.14.0 httpcore-1.0.4 httpx-0.27.0 litellm-1.28.13 openai-1.13.3 python-dotenv-1.0.1 tiktoken-0.6.0\r\n"
     ]
    }
   ],
   "source": [
    "!pip install litellm"
   ]
  },
  {
   "cell_type": "code",
   "execution_count": null,
   "outputs": [],
   "source": [],
   "metadata": {
    "collapsed": false
   },
   "id": "7b72e6c56d6a4ca2"
  }
 ],
 "metadata": {
  "kernelspec": {
   "display_name": "Python 3",
   "language": "python",
   "name": "python3"
  },
  "language_info": {
   "codemirror_mode": {
    "name": "ipython",
    "version": 2
   },
   "file_extension": ".py",
   "mimetype": "text/x-python",
   "name": "python",
   "nbconvert_exporter": "python",
   "pygments_lexer": "ipython2",
   "version": "2.7.6"
  }
 },
 "nbformat": 4,
 "nbformat_minor": 5
}
