{
 "cells": [
  {
   "cell_type": "markdown",
   "source": [],
   "metadata": {
    "collapsed": false
   },
   "id": "c1b890543076f234"
  },
  {
   "cell_type": "code",
   "execution_count": 2,
   "id": "initial_id",
   "metadata": {
    "collapsed": true,
    "ExecuteTime": {
     "end_time": "2024-03-02T13:05:54.726107Z",
     "start_time": "2024-03-02T13:05:49.046552Z"
    }
   },
   "outputs": [
    {
     "name": "stdout",
     "output_type": "stream",
     "text": [
      "Collecting litellm\r\n",
      "  Downloading litellm-1.28.8-py3-none-any.whl.metadata (13 kB)\r\n",
      "Collecting aiohttp (from litellm)\r\n",
      "  Downloading aiohttp-3.9.3-cp39-cp39-macosx_10_9_x86_64.whl.metadata (7.4 kB)\r\n",
      "Requirement already satisfied: click in /Users/js/opt/anaconda3/lib/python3.9/site-packages (from litellm) (8.1.7)\r\n",
      "Requirement already satisfied: importlib-metadata>=6.8.0 in /Users/js/opt/anaconda3/lib/python3.9/site-packages (from litellm) (7.0.1)\r\n",
      "Requirement already satisfied: jinja2<4.0.0,>=3.1.2 in /Users/js/opt/anaconda3/lib/python3.9/site-packages (from litellm) (3.1.3)\r\n",
      "Requirement already satisfied: openai>=1.0.0 in /Users/js/opt/anaconda3/lib/python3.9/site-packages (from litellm) (1.12.0)\r\n",
      "Requirement already satisfied: python-dotenv>=0.2.0 in /Users/js/opt/anaconda3/lib/python3.9/site-packages (from litellm) (0.21.0)\r\n",
      "Requirement already satisfied: requests<3.0.0,>=2.31.0 in /Users/js/opt/anaconda3/lib/python3.9/site-packages (from litellm) (2.31.0)\r\n",
      "Collecting tiktoken>=0.4.0 (from litellm)\r\n",
      "  Downloading tiktoken-0.6.0-cp39-cp39-macosx_10_9_x86_64.whl.metadata (6.6 kB)\r\n",
      "Requirement already satisfied: tokenizers in /Users/js/opt/anaconda3/lib/python3.9/site-packages (from litellm) (0.15.2)\r\n",
      "Requirement already satisfied: zipp>=0.5 in /Users/js/opt/anaconda3/lib/python3.9/site-packages (from importlib-metadata>=6.8.0->litellm) (3.17.0)\r\n",
      "Requirement already satisfied: MarkupSafe>=2.0 in /Users/js/opt/anaconda3/lib/python3.9/site-packages (from jinja2<4.0.0,>=3.1.2->litellm) (2.1.3)\r\n",
      "Requirement already satisfied: anyio<5,>=3.5.0 in /Users/js/opt/anaconda3/lib/python3.9/site-packages (from openai>=1.0.0->litellm) (4.2.0)\r\n",
      "Requirement already satisfied: distro<2,>=1.7.0 in /Users/js/opt/anaconda3/lib/python3.9/site-packages (from openai>=1.0.0->litellm) (1.8.0)\r\n",
      "Requirement already satisfied: httpx<1,>=0.23.0 in /Users/js/opt/anaconda3/lib/python3.9/site-packages (from openai>=1.0.0->litellm) (0.27.0)\r\n",
      "Requirement already satisfied: pydantic<3,>=1.9.0 in /Users/js/opt/anaconda3/lib/python3.9/site-packages (from openai>=1.0.0->litellm) (1.10.12)\r\n",
      "Requirement already satisfied: sniffio in /Users/js/opt/anaconda3/lib/python3.9/site-packages (from openai>=1.0.0->litellm) (1.3.0)\r\n",
      "Requirement already satisfied: tqdm>4 in /Users/js/opt/anaconda3/lib/python3.9/site-packages (from openai>=1.0.0->litellm) (4.65.0)\r\n",
      "Requirement already satisfied: typing-extensions<5,>=4.7 in /Users/js/opt/anaconda3/lib/python3.9/site-packages (from openai>=1.0.0->litellm) (4.8.0)\r\n",
      "Requirement already satisfied: charset-normalizer<4,>=2 in /Users/js/opt/anaconda3/lib/python3.9/site-packages (from requests<3.0.0,>=2.31.0->litellm) (2.0.4)\r\n",
      "Requirement already satisfied: idna<4,>=2.5 in /Users/js/opt/anaconda3/lib/python3.9/site-packages (from requests<3.0.0,>=2.31.0->litellm) (3.4)\r\n",
      "Requirement already satisfied: urllib3<3,>=1.21.1 in /Users/js/opt/anaconda3/lib/python3.9/site-packages (from requests<3.0.0,>=2.31.0->litellm) (1.26.18)\r\n",
      "Requirement already satisfied: certifi>=2017.4.17 in /Users/js/opt/anaconda3/lib/python3.9/site-packages (from requests<3.0.0,>=2.31.0->litellm) (2023.7.22)\r\n",
      "Requirement already satisfied: regex>=2022.1.18 in /Users/js/opt/anaconda3/lib/python3.9/site-packages (from tiktoken>=0.4.0->litellm) (2023.10.3)\r\n",
      "Collecting aiosignal>=1.1.2 (from aiohttp->litellm)\r\n",
      "  Using cached aiosignal-1.3.1-py3-none-any.whl.metadata (4.0 kB)\r\n",
      "Requirement already satisfied: attrs>=17.3.0 in /Users/js/opt/anaconda3/lib/python3.9/site-packages (from aiohttp->litellm) (23.1.0)\r\n",
      "Collecting frozenlist>=1.1.1 (from aiohttp->litellm)\r\n",
      "  Downloading frozenlist-1.4.1-cp39-cp39-macosx_10_9_x86_64.whl.metadata (12 kB)\r\n",
      "Collecting multidict<7.0,>=4.5 (from aiohttp->litellm)\r\n",
      "  Downloading multidict-6.0.5-cp39-cp39-macosx_10_9_x86_64.whl.metadata (4.2 kB)\r\n",
      "Collecting yarl<2.0,>=1.0 (from aiohttp->litellm)\r\n",
      "  Downloading yarl-1.9.4-cp39-cp39-macosx_10_9_x86_64.whl.metadata (31 kB)\r\n",
      "Collecting async-timeout<5.0,>=4.0 (from aiohttp->litellm)\r\n",
      "  Downloading async_timeout-4.0.3-py3-none-any.whl.metadata (4.2 kB)\r\n",
      "Requirement already satisfied: huggingface_hub<1.0,>=0.16.4 in /Users/js/opt/anaconda3/lib/python3.9/site-packages (from tokenizers->litellm) (0.21.3)\r\n",
      "Requirement already satisfied: exceptiongroup>=1.0.2 in /Users/js/opt/anaconda3/lib/python3.9/site-packages (from anyio<5,>=3.5.0->openai>=1.0.0->litellm) (1.2.0)\r\n",
      "Requirement already satisfied: httpcore==1.* in /Users/js/opt/anaconda3/lib/python3.9/site-packages (from httpx<1,>=0.23.0->openai>=1.0.0->litellm) (1.0.4)\r\n",
      "Requirement already satisfied: h11<0.15,>=0.13 in /Users/js/opt/anaconda3/lib/python3.9/site-packages (from httpcore==1.*->httpx<1,>=0.23.0->openai>=1.0.0->litellm) (0.14.0)\r\n",
      "Requirement already satisfied: filelock in /Users/js/opt/anaconda3/lib/python3.9/site-packages (from huggingface_hub<1.0,>=0.16.4->tokenizers->litellm) (3.13.1)\r\n",
      "Requirement already satisfied: fsspec>=2023.5.0 in /Users/js/opt/anaconda3/lib/python3.9/site-packages (from huggingface_hub<1.0,>=0.16.4->tokenizers->litellm) (2023.10.0)\r\n",
      "Requirement already satisfied: pyyaml>=5.1 in /Users/js/opt/anaconda3/lib/python3.9/site-packages (from huggingface_hub<1.0,>=0.16.4->tokenizers->litellm) (6.0.1)\r\n",
      "Requirement already satisfied: packaging>=20.9 in /Users/js/opt/anaconda3/lib/python3.9/site-packages (from huggingface_hub<1.0,>=0.16.4->tokenizers->litellm) (23.1)\r\n",
      "Downloading litellm-1.28.8-py3-none-any.whl (3.6 MB)\r\n",
      "\u001B[2K   \u001B[90m━━━━━━━━━━━━━━━━━━━━━━━━━━━━━━━━━━━━━━━━\u001B[0m \u001B[32m3.6/3.6 MB\u001B[0m \u001B[31m11.6 MB/s\u001B[0m eta \u001B[36m0:00:00\u001B[0ma \u001B[36m0:00:01\u001B[0m\r\n",
      "\u001B[?25hDownloading tiktoken-0.6.0-cp39-cp39-macosx_10_9_x86_64.whl (976 kB)\r\n",
      "\u001B[2K   \u001B[90m━━━━━━━━━━━━━━━━━━━━━━━━━━━━━━━━━━━━━━━━\u001B[0m \u001B[32m976.7/976.7 kB\u001B[0m \u001B[31m11.0 MB/s\u001B[0m eta \u001B[36m0:00:00\u001B[0m00:01\u001B[0m00:01\u001B[0m\r\n",
      "\u001B[?25hDownloading aiohttp-3.9.3-cp39-cp39-macosx_10_9_x86_64.whl (398 kB)\r\n",
      "\u001B[2K   \u001B[90m━━━━━━━━━━━━━━━━━━━━━━━━━━━━━━━━━━━━━━━━\u001B[0m \u001B[32m398.8/398.8 kB\u001B[0m \u001B[31m9.3 MB/s\u001B[0m eta \u001B[36m0:00:00\u001B[0m:00:01\u001B[0m\r\n",
      "\u001B[?25hUsing cached aiosignal-1.3.1-py3-none-any.whl (7.6 kB)\r\n",
      "Downloading async_timeout-4.0.3-py3-none-any.whl (5.7 kB)\r\n",
      "Downloading frozenlist-1.4.1-cp39-cp39-macosx_10_9_x86_64.whl (55 kB)\r\n",
      "\u001B[2K   \u001B[90m━━━━━━━━━━━━━━━━━━━━━━━━━━━━━━━━━━━━━━━━\u001B[0m \u001B[32m55.2/55.2 kB\u001B[0m \u001B[31m2.3 MB/s\u001B[0m eta \u001B[36m0:00:00\u001B[0m\r\n",
      "\u001B[?25hDownloading multidict-6.0.5-cp39-cp39-macosx_10_9_x86_64.whl (30 kB)\r\n",
      "Downloading yarl-1.9.4-cp39-cp39-macosx_10_9_x86_64.whl (83 kB)\r\n",
      "\u001B[2K   \u001B[90m━━━━━━━━━━━━━━━━━━━━━━━━━━━━━━━━━━━━━━━━\u001B[0m \u001B[32m83.7/83.7 kB\u001B[0m \u001B[31m4.0 MB/s\u001B[0m eta \u001B[36m0:00:00\u001B[0m\r\n",
      "\u001B[?25hInstalling collected packages: multidict, frozenlist, async-timeout, yarl, tiktoken, aiosignal, aiohttp, litellm\r\n",
      "Successfully installed aiohttp-3.9.3 aiosignal-1.3.1 async-timeout-4.0.3 frozenlist-1.4.1 litellm-1.28.8 multidict-6.0.5 tiktoken-0.6.0 yarl-1.9.4\r\n",
      "Note: you may need to restart the kernel to use updated packages.\n"
     ]
    }
   ],
   "source": [
    "pip install litellm"
   ]
  },
  {
   "cell_type": "code",
   "outputs": [
    {
     "ename": "ModuleNotFoundError",
     "evalue": "No module named 'litellm'",
     "output_type": "error",
     "traceback": [
      "\u001B[0;31m---------------------------------------------------------------------------\u001B[0m",
      "\u001B[0;31mModuleNotFoundError\u001B[0m                       Traceback (most recent call last)",
      "Cell \u001B[0;32mIn[1], line 1\u001B[0m\n\u001B[0;32m----> 1\u001B[0m \u001B[38;5;28;01mfrom\u001B[39;00m \u001B[38;5;21;01mlitellm\u001B[39;00m \u001B[38;5;28;01mimport\u001B[39;00m completion\n\u001B[1;32m      2\u001B[0m \u001B[38;5;28;01mimport\u001B[39;00m \u001B[38;5;21;01mos\u001B[39;00m\n",
      "\u001B[0;31mModuleNotFoundError\u001B[0m: No module named 'litellm'"
     ]
    }
   ],
   "source": [
    "from litellm import completion\n",
    "import os"
   ],
   "metadata": {
    "collapsed": false,
    "ExecuteTime": {
     "end_time": "2024-03-02T13:05:46.369136Z",
     "start_time": "2024-03-02T13:05:45.975770Z"
    }
   },
   "id": "c4543ee181152f5d",
   "execution_count": 1
  },
  {
   "cell_type": "code",
   "outputs": [],
   "source": [
    "GPT = \"gpt-3.5-turbo\""
   ],
   "metadata": {
    "collapsed": false,
    "ExecuteTime": {
     "end_time": "2024-03-02T08:19:47.508721Z",
     "start_time": "2024-03-02T08:19:47.500847Z"
    }
   },
   "id": "c5e1c87cf9bbc509",
   "execution_count": 4
  },
  {
   "cell_type": "code",
   "outputs": [],
   "source": [
    "source ~/.zshrc"
   ],
   "metadata": {
    "collapsed": false,
    "is_executing": true
   },
   "id": "c964207110ff297f"
  },
  {
   "cell_type": "code",
   "outputs": [
    {
     "name": "stdout",
     "output_type": "stream",
     "text": [
      "TOKEN None\n"
     ]
    }
   ],
   "source": [
    "print(\"TOKEN\", os.getenv(\"OPEN_API_KEY\"))"
   ],
   "metadata": {
    "collapsed": false,
    "ExecuteTime": {
     "end_time": "2024-03-02T08:19:49.008321Z",
     "start_time": "2024-03-02T08:19:49.000253Z"
    }
   },
   "id": "b134b7e730efaa4f",
   "execution_count": 5
  },
  {
   "cell_type": "code",
   "outputs": [],
   "source": [
    "response = completion(\n",
    "    model = GTP,\n",
    "    message = [{\n",
    "        \"content\" : \"Hello World! how are you today?\",\n",
    "        \"role\" : \"user\",\n",
    "    }]\n",
    ")"
   ],
   "metadata": {
    "collapsed": false,
    "is_executing": true
   },
   "id": "cd7709be156780d7"
  },
  {
   "cell_type": "code",
   "outputs": [],
   "source": [],
   "metadata": {
    "collapsed": false
   },
   "id": "dd59895e66e9e09e"
  },
  {
   "cell_type": "code",
   "outputs": [],
   "source": [],
   "metadata": {
    "collapsed": false
   },
   "id": "4232cfc3e64e1a1a"
  },
  {
   "cell_type": "code",
   "outputs": [],
   "source": [],
   "metadata": {
    "collapsed": false
   },
   "id": "17414ccc852ddcb8"
  }
 ],
 "metadata": {
  "kernelspec": {
   "display_name": "Python 3",
   "language": "python",
   "name": "python3"
  },
  "language_info": {
   "codemirror_mode": {
    "name": "ipython",
    "version": 2
   },
   "file_extension": ".py",
   "mimetype": "text/x-python",
   "name": "python",
   "nbconvert_exporter": "python",
   "pygments_lexer": "ipython2",
   "version": "2.7.6"
  }
 },
 "nbformat": 4,
 "nbformat_minor": 5
}
